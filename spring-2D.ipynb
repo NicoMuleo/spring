{
 "cells": [
  {
   "cell_type": "code",
   "execution_count": 23,
   "metadata": {},
   "outputs": [
    {
     "data": {
      "text/plain": [
       "Dict{String,Any} with 6 entries:\n",
       "  \"step\"        => [0.1, 0.1, 0.1]\n",
       "  \"elasticity\"  => [1.0, 1.0]\n",
       "  \"lenght\"      => 1.0\n",
       "  \"n_plac\"      => 100\n",
       "  \"temperature\" => 1.0\n",
       "  \"d_rest\"      => [0.2, 0.4]"
      ]
     },
     "execution_count": 23,
     "metadata": {},
     "output_type": "execute_result"
    }
   ],
   "source": [
    "param_2D = Dict{String,Any}()\n",
    "param_2D[\"n_plac\"]= 100\n",
    "param_2D[\"temperature\"] = 1.\n",
    "param_2D[\"lenght\"] = 1.\n",
    "param_2D[\"d_rest\"] = [0.2, 0.4]\n",
    "param_2D[\"elasticity\"] = [1., 1.]\n",
    "param_2D[\"step\"]= [0.1, 0.1, 0.1]\n",
    "param_2D"
   ]
  },
  {
   "cell_type": "code",
   "execution_count": 7,
   "metadata": {},
   "outputs": [
    {
     "data": {
      "text/plain": [
       "energy_2D (generic function with 1 method)"
      ]
     },
     "execution_count": 7,
     "metadata": {},
     "output_type": "execute_result"
    }
   ],
   "source": [
    "function energy_2D(x, y, param_2D) \n",
    "    link_1 = x[1:2] - y[1:2] + param_2D[\"lenght\"] *([cospi(x[3]), sinpi(x[3])] - [cospi(y[3]), sinpi(y[3])])\n",
    "    link_2 = x[1:2] - y[1:2] \n",
    "    energy_1 = param_2D[\"elasticity\"][1]*(sqrt(sum(link_1.^2)) - param_2D[\"d_rest\"][1])^2\n",
    "    energy_2 = param_2D[\"elasticity\"][2]*(sqrt(sum(link_2.^2)) - param_2D[\"d_rest\"][2])^2\n",
    "    return energy_1 + energy_2\n",
    "end"
   ]
  },
  {
   "cell_type": "code",
   "execution_count": 11,
   "metadata": {},
   "outputs": [
    {
     "data": {
      "text/plain": [
       "1.0"
      ]
     },
     "execution_count": 11,
     "metadata": {},
     "output_type": "execute_result"
    }
   ],
   "source": [
    "energy_2D([0.,0.,0.], [0.,1.,0.], param_2D) "
   ]
  },
  {
   "cell_type": "code",
   "execution_count": 38,
   "metadata": {},
   "outputs": [
    {
     "data": {
      "text/plain": [
       "10×3 Array{Float64,2}:\n",
       " 0.263029  0.41564   0.465265\n",
       " 0.862179  0.699714  0.0720943\n",
       " 0.593279  0.653728  0.528353\n",
       " 0.548059  0.404528  0.500913\n",
       " 0.651997  0.1505    0.417383\n",
       " 0.688795  0.902852  0.0476367\n",
       " 0.475308  0.030019  0.375512\n",
       " 0.492569  0.145191  0.726406\n",
       " 0.735597  0.37085   0.673018\n",
       " 0.31643   0.423654  0.326708"
      ]
     },
     "execution_count": 38,
     "metadata": {},
     "output_type": "execute_result"
    }
   ],
   "source": [
    "chain = rand( 10, 3)"
   ]
  },
  {
   "cell_type": "code",
   "execution_count": 26,
   "metadata": {},
   "outputs": [
    {
     "data": {
      "text/plain": [
       "4-element Array{Float64,1}:\n",
       " 0.4265888466908456\n",
       " 0.6363956895423233\n",
       " 0.7714836519761119\n",
       " 0.3982212022586691"
      ]
     },
     "execution_count": 26,
     "metadata": {},
     "output_type": "execute_result"
    }
   ],
   "source": [
    "chain[2, :]"
   ]
  },
  {
   "cell_type": "code",
   "execution_count": 16,
   "metadata": {},
   "outputs": [
    {
     "data": {
      "text/plain": [
       "element_progress_2D (generic function with 1 method)"
      ]
     },
     "execution_count": 16,
     "metadata": {},
     "output_type": "execute_result"
    }
   ],
   "source": [
    "using Random\n",
    "function element_progress_2D(chain, elem, param_2D)\n",
    "    energy_before = energy_2D(chain[elem,:], chain[elem-1,:], param_2D) + energy_2D(chain[elem,:], chain[elem+1,:], param_2D)\n",
    "    var = (rand(3).-0.5).*param_2D[\"step\"]\n",
    "    energy_after = energy_2D(chain[elem,:] + var, chain[elem-1,:], param_2D) + energy_2D(chain[elem,:] + var, chain[elem+1,:], param_2D)\n",
    "    delta_energy = energy_after - energy_before\n",
    "    if delta_energy < 0. || rand() > exp(- delta_energy/param_2D[\"temperature\"])\n",
    "        chain[elem, :] += var\n",
    "    #else println(\"non ho cambiato\")\n",
    "    end\n",
    "end"
   ]
  },
  {
   "cell_type": "code",
   "execution_count": 25,
   "metadata": {},
   "outputs": [
    {
     "data": {
      "text/plain": [
       "100×3 Array{Float64,2}:\n",
       "  0.0          0.0         0.5\n",
       "  0.329328    -0.084086    0.5596\n",
       " -0.121941    -0.0924047   0.354862\n",
       " -0.315981     0.277196    0.162449\n",
       "  0.0382053    0.119392    0.225998\n",
       " -0.0240213    0.544024    0.0348185\n",
       " -0.150873     0.195709    0.0980041\n",
       "  0.0817145   -0.098263    0.155919\n",
       " -0.166695     0.218299   -0.0111462\n",
       " -0.327337    -0.137623    0.0918597\n",
       "  0.00520853  -0.346078    0.187055\n",
       "  0.0263431    0.0706957   0.0226508\n",
       " -0.0368435   -0.318846    0.0899264\n",
       "  ⋮                       \n",
       "  0.0259496    0.0723941   0.157521\n",
       "  0.126039    -0.309863    0.220453\n",
       "  0.151805     0.107524    0.106182\n",
       " -0.0436383    0.460017   -0.0453891\n",
       "  0.0562416    0.0972495   0.146131\n",
       "  0.0896648   -0.304415    0.266756\n",
       "  0.0450221    0.113046    0.193351\n",
       "  0.333938    -0.178753    0.377514\n",
       "  0.103123     0.169373    0.230801\n",
       "  0.224105    -0.181875    0.322354\n",
       "  0.636254    -0.141079    0.41269\n",
       "  1.0          0.0         0.5"
      ]
     },
     "execution_count": 25,
     "metadata": {},
     "output_type": "execute_result"
    }
   ],
   "source": [
    "chain = fill(0., param_2D[\"n_plac\"], 3)\n",
    "chain[1,3] = 0.5\n",
    "chain[param_2D[\"n_plac\"],:] = [1, 0, 0.5]\n",
    "for j = 1:1000\n",
    "    for i = 2:(param_2D[\"n_plac\"]-1)\n",
    "        element_progress_2D(chain, i, param_2D)\n",
    "    end\n",
    "end\n",
    "chain"
   ]
  },
  {
   "cell_type": "code",
   "execution_count": 21,
   "metadata": {},
   "outputs": [
    {
     "ename": "LoadError",
     "evalue": "\u001b[91mMethodError: no method matching getindex(::Float64, ::String)\u001b[39m\n\u001b[91m\u001b[0mClosest candidates are:\u001b[39m\n\u001b[91m\u001b[0m  getindex(::Number) at number.jl:75\u001b[39m\n\u001b[91m\u001b[0m  getindex(::Number, \u001b[91m::Integer\u001b[39m) at number.jl:76\u001b[39m\n\u001b[91m\u001b[0m  getindex(::Number, \u001b[91m::Integer...\u001b[39m) at number.jl:81\u001b[39m\n\u001b[91m\u001b[0m  ...\u001b[39m",
     "output_type": "error",
     "traceback": [
      "\u001b[91mMethodError: no method matching getindex(::Float64, ::String)\u001b[39m\n\u001b[91m\u001b[0mClosest candidates are:\u001b[39m\n\u001b[91m\u001b[0m  getindex(::Number) at number.jl:75\u001b[39m\n\u001b[91m\u001b[0m  getindex(::Number, \u001b[91m::Integer\u001b[39m) at number.jl:76\u001b[39m\n\u001b[91m\u001b[0m  getindex(::Number, \u001b[91m::Integer...\u001b[39m) at number.jl:81\u001b[39m\n\u001b[91m\u001b[0m  ...\u001b[39m",
      "",
      "Stacktrace:",
      " [1] energy_2D(::Array{Float64,1}, ::Array{Float64,1}, ::Float64) at ./In[7]:2",
      " [2] element_progress_2D(::Array{Float64,2}, ::Int64, ::Float64) at ./In[16]:3",
      " [3] top-level scope at In[21]:1",
      " [4] include_string(::Function, ::Module, ::String, ::String) at ./loading.jl:1091"
     ]
    }
   ],
   "source": [
    "element_progress_2D(chain, 4, 0.1)\n",
    "element_progress_2D(chain, 4, 0.1)\n",
    "element_progress_2D(chain, 4, 0.1)\n",
    "chain"
   ]
  },
  {
   "cell_type": "code",
   "execution_count": 82,
   "metadata": {},
   "outputs": [
    {
     "data": {
      "text/plain": [
       "3.7"
      ]
     },
     "execution_count": 82,
     "metadata": {},
     "output_type": "execute_result"
    }
   ],
   "source": [
    "sum([0.5, 2].*[3, 1.1])"
   ]
  },
  {
   "cell_type": "code",
   "execution_count": 34,
   "metadata": {},
   "outputs": [
    {
     "data": {
      "text/plain": [
       "10×3 Array{Int64,2}:\n",
       " 1  1  1\n",
       " 1  1  1\n",
       " 0  0  0\n",
       " 1  1  1\n",
       " 1  1  1\n",
       " 1  1  1\n",
       " 1  1  1\n",
       " 1  1  1\n",
       " 1  1  1\n",
       " 1  1  1"
      ]
     },
     "execution_count": 34,
     "metadata": {},
     "output_type": "execute_result"
    }
   ],
   "source": [
    "function azzera_3(chain)\n",
    "    chain[3,:] = [0., 0., 0.]\n",
    "end\n",
    "chain_1 = fill(1, 10,3)\n",
    "azzera_3(chain_1)\n",
    "chain_1"
   ]
  },
  {
   "cell_type": "code",
   "execution_count": 9,
   "metadata": {},
   "outputs": [
    {
     "data": {
      "text/plain": [
       "4-element Array{Float64,1}:\n",
       " 0.0\n",
       " 0.0\n",
       " 0.0\n",
       " 0.0"
      ]
     },
     "execution_count": 9,
     "metadata": {},
     "output_type": "execute_result"
    }
   ],
   "source": [
    "map(x-> sinpi(x), [1, 2, 3, 4])"
   ]
  },
  {
   "cell_type": "code",
   "execution_count": 116,
   "metadata": {},
   "outputs": [
    {
     "data": {
      "text/plain": [
       "Dict{String,Any} with 2 entries:\n",
       "  \"B\" => 3\n",
       "  \"A\" => [1, 3]"
      ]
     },
     "execution_count": 116,
     "metadata": {},
     "output_type": "execute_result"
    }
   ],
   "source": [
    "D = Dict([(\"A\", [1, 3]), (\"B\", 3)])"
   ]
  },
  {
   "cell_type": "code",
   "execution_count": 119,
   "metadata": {},
   "outputs": [
    {
     "data": {
      "text/plain": [
       "Dict{String,Any} with 4 entries:\n",
       "  \"B\" => 3\n",
       "  \"A\" => [1, 3]\n",
       "  \"C\" => [2.0, 1.0, 3.0]\n",
       "  \"D\" => 19.0"
      ]
     },
     "execution_count": 119,
     "metadata": {},
     "output_type": "execute_result"
    }
   ],
   "source": [
    "D[\"C\"] = [2, 1, 3.]\n",
    "D[\"D\"] = 19.\n",
    "D"
   ]
  },
  {
   "cell_type": "code",
   "execution_count": null,
   "metadata": {},
   "outputs": [],
   "source": []
  }
 ],
 "metadata": {
  "kernelspec": {
   "display_name": "Julia 1.5.4",
   "language": "julia",
   "name": "julia-1.5"
  },
  "language_info": {
   "file_extension": ".jl",
   "mimetype": "application/julia",
   "name": "julia",
   "version": "1.5.4"
  }
 },
 "nbformat": 4,
 "nbformat_minor": 4
}
